{
 "cells": [
  {
   "cell_type": "code",
   "execution_count": 7,
   "metadata": {},
   "outputs": [
    {
     "name": "stdout",
     "output_type": "stream",
     "text": [
      "14 14 1\n"
     ]
    }
   ],
   "source": [
    "from math import ceil\n",
    "\n",
    "input_img = [1, 28, 28, 20]\n",
    "strides = [1, 2, 2, 1]\n",
    "\n",
    "filter_size = (1,2,2,1)\n",
    "\n",
    "\n",
    "\n",
    "out_height = ceil(float(28 - 2 + 1) / float(strides[1]))\n",
    "out_width  = ceil(float(28 - 2 + 1) / float(strides[2]))\n",
    "\n",
    "print(out_height, out_width, filter_size[3])"
   ]
  },
  {
   "cell_type": "code",
   "execution_count": null,
   "metadata": {},
   "outputs": [],
   "source": []
  }
 ],
 "metadata": {
  "kernelspec": {
   "display_name": "Python [conda env:py3]",
   "language": "python",
   "name": "conda-env-py3-py"
  },
  "language_info": {
   "codemirror_mode": {
    "name": "ipython",
    "version": 3
   },
   "file_extension": ".py",
   "mimetype": "text/x-python",
   "name": "python",
   "nbconvert_exporter": "python",
   "pygments_lexer": "ipython3",
   "version": "3.7.7"
  }
 },
 "nbformat": 4,
 "nbformat_minor": 4
}
