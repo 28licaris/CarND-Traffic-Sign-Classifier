{
 "cells": [
  {
   "cell_type": "code",
   "execution_count": 12,
   "metadata": {},
   "outputs": [
    {
     "name": "stdout",
     "output_type": "stream",
     "text": [
      "10 10 60\n"
     ]
    }
   ],
   "source": [
    "from math import ceil\n",
    "\n",
    "input_img = [1, 14, 14, 20]\n",
    "strides = [1, 1, 1, 1]\n",
    "\n",
    "filter_size = (5, 5, 20, 60)\n",
    "\n",
    "\n",
    "\n",
    "out_height = ceil(float(14 - 5 + 1) / float(strides[1]))\n",
    "out_width  = ceil(float(14 - 5 + 1) / float(strides[2]))\n",
    "\n",
    "print(out_height, out_width, filter_size[3])"
   ]
  },
  {
   "cell_type": "code",
   "execution_count": null,
   "metadata": {},
   "outputs": [],
   "source": []
  }
 ],
 "metadata": {
  "kernelspec": {
   "display_name": "Python [conda env:py3]",
   "language": "python",
   "name": "conda-env-py3-py"
  },
  "language_info": {
   "codemirror_mode": {
    "name": "ipython",
    "version": 3
   },
   "file_extension": ".py",
   "mimetype": "text/x-python",
   "name": "python",
   "nbconvert_exporter": "python",
   "pygments_lexer": "ipython3",
   "version": "3.7.7"
  }
 },
 "nbformat": 4,
 "nbformat_minor": 4
}
